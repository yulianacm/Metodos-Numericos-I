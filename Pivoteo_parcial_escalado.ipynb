{
  "nbformat": 4,
  "nbformat_minor": 0,
  "metadata": {
    "colab": {
      "provenance": [],
      "authorship_tag": "ABX9TyOkh+3zQTbJIhOGCNbHFbpe",
      "include_colab_link": true
    },
    "kernelspec": {
      "name": "python3",
      "display_name": "Python 3"
    },
    "language_info": {
      "name": "python"
    }
  },
  "cells": [
    {
      "cell_type": "markdown",
      "metadata": {
        "id": "view-in-github",
        "colab_type": "text"
      },
      "source": [
        "<a href=\"https://colab.research.google.com/github/yulianacm/Metodos-Numericos-I/blob/main/Pivoteo_parcial_escalado.ipynb\" target=\"_parent\"><img src=\"https://colab.research.google.com/assets/colab-badge.svg\" alt=\"Open In Colab\"/></a>"
      ]
    },
    {
      "cell_type": "markdown",
      "source": [
        "Pivoteo parcial escalado"
      ],
      "metadata": {
        "id": "Azt58nGs-TgE"
      }
    },
    {
      "cell_type": "code",
      "source": [
        "import numpy as np #Importamos librería"
      ],
      "metadata": {
        "id": "OBqeUvPU-hKi"
      },
      "execution_count": 5,
      "outputs": []
    },
    {
      "cell_type": "code",
      "source": [
        "#Datos para el ejemplo\n",
        "A=np.array([\n",
        "    [2.11, -4.21, 0.921],\n",
        "    [4.01, 10.2, -1.12],\n",
        "    [1.09, 0.987, 0.832]\n",
        "])\n",
        "b=np.array([2.01, -3.09, 4.21])"
      ],
      "metadata": {
        "id": "7lBxh5oT-r8H"
      },
      "execution_count": 6,
      "outputs": []
    },
    {
      "cell_type": "code",
      "execution_count": 7,
      "metadata": {
        "colab": {
          "base_uri": "https://localhost:8080/"
        },
        "id": "-OLU8T5S7ev1",
        "outputId": "f860fd59-3cc6-43c3-e143-b95ee4fcc409"
      },
      "outputs": [
        {
          "output_type": "stream",
          "name": "stdout",
          "text": [
            "La solución es: [-0.42800441  0.42690323  5.11438861]\n"
          ]
        },
        {
          "output_type": "stream",
          "name": "stderr",
          "text": [
            "<ipython-input-7-7f2a0d83cec3>:34: DeprecationWarning: Conversion of an array with ndim > 0 to a scalar is deprecated, and will error in future. Ensure you extract a single element from your array before performing this operation. (Deprecated NumPy 1.25.)\n",
            "  x[i]=(b[[i]]-np.dot(A[[i], i+1:], x[i+1:])) / A[[i], i]\n"
          ]
        }
      ],
      "source": [
        "def eligauss(A, b):\n",
        "    #Número de filas\n",
        "    n=len(A)\n",
        "\n",
        "    #Paso 1: Calcular el valor máximo para cada fila\n",
        "    s=np.max(np.abs(A), axis=1)\n",
        "    numf=np.arange(n)  #Inicialmente, cada fila está en su posición original\n",
        "    #Veamos si tiene solución única\n",
        "    for i in range(n):\n",
        "        if s[i] == 0:\n",
        "            print(\"No existe solución única\")\n",
        "            return None\n",
        "\n",
        "    #Paso 2: Proceso de eliminación (para i = 1,...,n-1)\n",
        "    for i in range(n-1):\n",
        "        #Paso 3: Selección del pivote\n",
        "        p = np.argmin(np.abs(A[numf[i:], i]) / s[numf[i:]]) + i\n",
        "        # Intercambiar las filas para el pivote\n",
        "        A[[numf[i], numf[p]]]=A[[numf[p], numf[i]]]\n",
        "        b[numf[i]], b[numf[p]]=b[numf[p]], b[numf[i]]\n",
        "\n",
        "        #Paso 4: Eliminación hacia adelante\n",
        "        for j in range(i+1, n):\n",
        "            factor=A[numf[j], i] / A[numf[i], i]\n",
        "            A[numf[j], i:]-=factor * A[numf[i], i:]\n",
        "            b[numf[j]]-=factor * b[numf[i]]\n",
        "\n",
        "    #Paso 5: Resolución de la matriz triangular superior\n",
        "    x=np.zeros(n)\n",
        "    x[-1]=b[numf[-1]] / A[numf[-1], -1]  #Última variable\n",
        "\n",
        "    #Paso 6: Sustitución hacia atrás\n",
        "    for i in range(n-2, -1, -1):\n",
        "        x[i]=(b[[i]]-np.dot(A[[i], i+1:], x[i+1:]))/A[[i], i]\n",
        "\n",
        "    return x\n",
        "#Mostrar resultado\n",
        "solucion=eligauss(A, b)\n",
        "if solucion is not None:\n",
        "    print(\"La solución es:\", solucion)"
      ]
    }
  ]
}