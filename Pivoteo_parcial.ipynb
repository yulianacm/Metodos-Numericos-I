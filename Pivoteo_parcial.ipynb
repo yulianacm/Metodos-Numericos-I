{
  "nbformat": 4,
  "nbformat_minor": 0,
  "metadata": {
    "colab": {
      "provenance": [],
      "authorship_tag": "ABX9TyOko+AGM+rWCv6jDWBXxvy1",
      "include_colab_link": true
    },
    "kernelspec": {
      "name": "python3",
      "display_name": "Python 3"
    },
    "language_info": {
      "name": "python"
    }
  },
  "cells": [
    {
      "cell_type": "markdown",
      "metadata": {
        "id": "view-in-github",
        "colab_type": "text"
      },
      "source": [
        "<a href=\"https://colab.research.google.com/github/yulianacm/Metodos-Numericos-I/blob/main/Pivoteo_parcial.ipynb\" target=\"_parent\"><img src=\"https://colab.research.google.com/assets/colab-badge.svg\" alt=\"Open In Colab\"/></a>"
      ]
    },
    {
      "cell_type": "markdown",
      "source": [
        "Pivoteo parcial"
      ],
      "metadata": {
        "id": "EOeUwZuWqlDT"
      }
    },
    {
      "cell_type": "code",
      "source": [
        "import numpy as np #Importamos biblioteca"
      ],
      "metadata": {
        "id": "BNVtbqI-x71R"
      },
      "execution_count": 5,
      "outputs": []
    },
    {
      "cell_type": "code",
      "source": [
        "#Parámetros para ejercicio\n",
        "A=np.array([[0.003, 59.14], [5.291, -6.13]])\n",
        "b=np.array([59.17, 46.78])"
      ],
      "metadata": {
        "id": "b0-Vta6dz2CY"
      },
      "execution_count": 6,
      "outputs": []
    },
    {
      "cell_type": "code",
      "source": [
        "def redondeo(value): #Redondeamos a 4 dígitos\n",
        "    return np.round(value, decimals=4)\n",
        "A=np.vectorize(redondeo)(A)\n",
        "b=redondeo(b)"
      ],
      "metadata": {
        "id": "-BD1TKK-0Q01"
      },
      "execution_count": 7,
      "outputs": []
    },
    {
      "cell_type": "code",
      "source": [
        "def eliminaciong(A, b):\n",
        "    n=len(b)\n",
        "    numf=list(range(n))  #Inicialización indicador de filas\n",
        "\n",
        "    #Paso 2: Eliminación hacia adelante\n",
        "    for i in range(n - 1):\n",
        "        #Paso 3: Determinar pivote máximo\n",
        "        filam=max(range(i, n), key=lambda p: abs(A[numf[p], i]))\n",
        "\n",
        "        #Paso 4: Verificar si el pivote es cero\n",
        "        if A[numf[filam], i]==0:\n",
        "            return \"No existe solución única\"\n",
        "\n",
        "        #Paso 5: Intercambio simulado de filas en NROW\n",
        "        if numf[i] !=numf[filam]:\n",
        "            numf[i], numf[filam]=numf[filam], numf[i]\n",
        "\n",
        "        #Paso 6: Actualización de filas inferiores\n",
        "        for j in range(i + 1, n):\n",
        "            m=redondeo(A[numf[j], i] / A[numf[i], i])\n",
        "            for k in range(i, n):\n",
        "                A[numf[j], k]=redondeo(A[numf[j], k] - m * A[numf[i], k])\n",
        "            b[numf[j]]=redondeo(b[numf[j]] - m * b[numf[i]])\n",
        "\n",
        "    #Paso 9: Verificar último pivote\n",
        "    if A[numf[n-1], n-1]==0:\n",
        "        return \"No existe solución única\"\n",
        "\n",
        "    #Paso 10: Sustitución hacia atrás\n",
        "    x=np.zeros(n)\n",
        "    x[n-1]=redondeo(b[numf[n-1]] / A[numf[n-1], n-1])\n",
        "\n",
        "    for i in range(n-2, -1, -1):\n",
        "        suma=sum(A[numf[i], j] * x[j] for j in range(i+1, n))\n",
        "        x[i]=redondeo((b[numf[i]]-suma) / A[numf[i], i])\n",
        "\n",
        "    return x\n",
        "\n",
        "resultado=eliminaciong(A, b)\n",
        "#Imprime los resultados\n",
        "if isinstance(resultado, str):\n",
        "    print(resultado)\n",
        "else:\n",
        "    print(\"Solución aproximada:\", resultado)\n",
        "\n"
      ],
      "metadata": {
        "colab": {
          "base_uri": "https://localhost:8080/"
        },
        "id": "90Vm8Ytaxr9I",
        "outputId": "94995cd1-a493-476d-c1bb-d66feb624733"
      },
      "execution_count": 11,
      "outputs": [
        {
          "output_type": "stream",
          "name": "stdout",
          "text": [
            "Solución aproximada: [10.  1.]\n"
          ]
        }
      ]
    }
  ]
}