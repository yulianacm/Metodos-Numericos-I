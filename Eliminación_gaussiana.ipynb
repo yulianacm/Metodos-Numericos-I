{
  "nbformat": 4,
  "nbformat_minor": 0,
  "metadata": {
    "colab": {
      "provenance": [],
      "authorship_tag": "ABX9TyO7aykT7RofYoW+C3zwv8Lu",
      "include_colab_link": true
    },
    "kernelspec": {
      "name": "python3",
      "display_name": "Python 3"
    },
    "language_info": {
      "name": "python"
    }
  },
  "cells": [
    {
      "cell_type": "markdown",
      "metadata": {
        "id": "view-in-github",
        "colab_type": "text"
      },
      "source": [
        "<a href=\"https://colab.research.google.com/github/yulianacm/Metodos-Numericos-I/blob/main/Eliminaci%C3%B3n_gaussiana.ipynb\" target=\"_parent\"><img src=\"https://colab.research.google.com/assets/colab-badge.svg\" alt=\"Open In Colab\"/></a>"
      ]
    },
    {
      "cell_type": "markdown",
      "source": [
        "Eliminación gaussiana"
      ],
      "metadata": {
        "id": "acf117ax1sBd"
      }
    },
    {
      "cell_type": "code",
      "execution_count": 3,
      "metadata": {
        "id": "B-d-1Th61rAk"
      },
      "outputs": [],
      "source": [
        "import numpy as np #Importamos librería numpy"
      ]
    },
    {
      "cell_type": "code",
      "source": [
        "#Datos para ejemplo\n",
        "A = np.array([\n",
        "    [1, -1, 2, -1, -8],\n",
        "    [2, -2, 3, -3, -20],\n",
        "    [1,  1, 1,  0, -2],\n",
        "    [1, -1, 4,  3,  4]\n",
        "], dtype=float)"
      ],
      "metadata": {
        "id": "r4d4IBjQ520v"
      },
      "execution_count": 4,
      "outputs": []
    },
    {
      "cell_type": "code",
      "source": [
        "def eligaussiana(A):\n",
        "    n=A.shape[0]  #Número de ecuaciones\n",
        "\n",
        "    for i in range(n - 1):\n",
        "        #Paso 2: Encontrar p\n",
        "        p=-1\n",
        "        for k in range(i, n):\n",
        "            if A[k, i] !=0:\n",
        "                p=k\n",
        "                break\n",
        "\n",
        "        if p==-1:\n",
        "            return \"No existe una solución única\"\n",
        "\n",
        "        #Paso 3: Intercambiar filas si es necesario\n",
        "        if p != i:\n",
        "            A[[i, p]]=A[[p, i]]\n",
        "\n",
        "        #Paso 4: Realizar eliminación\n",
        "        for j in range(i + 1, n):\n",
        "            m_ji=A[j, i] / A[i, i]\n",
        "            A[j, i:]=A[j, i:] - m_ji * A[i, i:]\n",
        "\n",
        "    #Paso 7: Verificar si ann = 0\n",
        "    if A[n-1, n-1] ==0:\n",
        "        return \"No existe una solución única\"\n",
        "\n",
        "    #Sustitución hacia atrás\n",
        "    x=np.zeros(n)\n",
        "    for i in range(n-1, -1, -1):\n",
        "        if A[i, i] ==0:\n",
        "            return \"No existe una solución única\"\n",
        "        suma=sum(A[i, j] * x[j] for j in range(i+1, n))\n",
        "        x[i]=(A[i, -1] - suma) / A[i, i]\n",
        "    return x\n",
        "\n",
        "solucion=eligaussiana(A) #Imprimir el resultado\n",
        "print(\"Solución del sistema:\", solucion)"
      ],
      "metadata": {
        "colab": {
          "base_uri": "https://localhost:8080/"
        },
        "id": "KQ9Jb-DK5U3n",
        "outputId": "312b7121-81ac-4b3f-bdde-44ea340b5e89"
      },
      "execution_count": 2,
      "outputs": [
        {
          "output_type": "stream",
          "name": "stdout",
          "text": [
            "Solución del sistema: [-7.  3.  2.  2.]\n"
          ]
        }
      ]
    }
  ]
}