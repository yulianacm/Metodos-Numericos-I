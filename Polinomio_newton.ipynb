{
  "nbformat": 4,
  "nbformat_minor": 0,
  "metadata": {
    "colab": {
      "provenance": [],
      "authorship_tag": "ABX9TyO3Lgc99Jm/XVKBfcwTH54R",
      "include_colab_link": true
    },
    "kernelspec": {
      "name": "python3",
      "display_name": "Python 3"
    },
    "language_info": {
      "name": "python"
    }
  },
  "cells": [
    {
      "cell_type": "markdown",
      "metadata": {
        "id": "view-in-github",
        "colab_type": "text"
      },
      "source": [
        "<a href=\"https://colab.research.google.com/github/yulianacm/Metodos-Numericos-I/blob/main/Polinomio_newton.ipynb\" target=\"_parent\"><img src=\"https://colab.research.google.com/assets/colab-badge.svg\" alt=\"Open In Colab\"/></a>"
      ]
    },
    {
      "cell_type": "markdown",
      "source": [
        "Polinomio de interpolación de newton"
      ],
      "metadata": {
        "id": "2Q7hMdAjMfPs"
      }
    },
    {
      "cell_type": "code",
      "source": [
        "# Importar las bibliotecas necesarias\n",
        "import numpy as np\n",
        "import sympy as sp\n",
        "import matplotlib.pyplot as plt"
      ],
      "metadata": {
        "id": "DX3iMORkMQs7"
      },
      "execution_count": 3,
      "outputs": []
    },
    {
      "cell_type": "code",
      "source": [
        "# Ejemplo de uso\n",
        "x=[1, 2, 3, 4, 5]\n",
        "y=[2, 4, 6, 8, 10]"
      ],
      "metadata": {
        "id": "KIVqfa-4MJA1"
      },
      "execution_count": 4,
      "outputs": []
    },
    {
      "cell_type": "code",
      "execution_count": 7,
      "metadata": {
        "colab": {
          "base_uri": "https://localhost:8080/"
        },
        "id": "siGBU2CWJ7ly",
        "outputId": "1becc071-a725-4761-ec0e-cc7ed74e4c51"
      },
      "outputs": [
        {
          "output_type": "stream",
          "name": "stdout",
          "text": [
            "El polinomio de interpolación de Newton es:\n",
            "    4       3        2              \n",
            "10⋅x  - 98⋅x  + 338⋅x  - 478⋅x + 228\n"
          ]
        }
      ],
      "source": [
        "def diferencias_divididas(x, y):\n",
        "    n = len(y)\n",
        "    coeficientes = np.copy(y)  # Copiar los valores de y para la primera columna\n",
        "    for j in range(1, n):\n",
        "        for i in range(n - j):\n",
        "            coeficientes[i] = (coeficientes[i + 1] - coeficientes[i]) / (x[i + j] - x[i])\n",
        "    return coeficientes\n",
        "\n",
        "def polinomio_newton(x, y):\n",
        "    coeficientes=diferencias_divididas(x, y)\n",
        "    n = len(coeficientes)\n",
        "    polinomio = 0  # Polinomio inicial\n",
        "    xi = sp.symbols('x')  # Variable simbólica\n",
        "    for i in range(n):\n",
        "        termino = coeficientes[i]\n",
        "        for j in range(i):\n",
        "            termino *= (xi - x[j])\n",
        "        polinomio += termino\n",
        "    return sp.expand(polinomio)\n",
        "\n",
        "# Verificar que los datos sean válidos\n",
        "if len(x) != len(y):\n",
        "    print(\"Error: Los vectores x e y deben tener la misma longitud.\")\n",
        "else:\n",
        "    # Calcular el polinomio de interpolación\n",
        "    polinomio = polinomio_newton(x, y)\n",
        "    print(\"El polinomio de interpolación de Newton es:\")\n",
        "    sp.pprint(polinomio)"
      ]
    },
    {
      "cell_type": "code",
      "source": [
        "def graficar_polinomio(x, y, polinomio):\n",
        "    xi = sp.symbols('x')  # Variable simbólica\n",
        "    f_polinomio = sp.lambdify(xi, polinomio, 'numpy')  # Convertir polinomio a función numérica\n",
        "\n",
        "    # Generar puntos para graficar el polinomio\n",
        "    x_graf = np.linspace(min(x), max(x), 500)\n",
        "    y_graf = f_polinomio(x_graf)\n",
        "\n",
        "    # Graficar\n",
        "    plt.figure(figsize=(10, 6))\n",
        "    plt.plot(x_graf, y_graf, label=\"Polinomio de Newton\", color=\"blue\", linestyle=\"--\")\n",
        "    plt.scatter(x, y, label=\"Datos originales\", color=\"red\", zorder=5)\n",
        "    plt.title(\"Interpolación de Newton\")\n",
        "    plt.xlabel(\"x\")\n",
        "    plt.ylabel(\"y\")\n",
        "    plt.legend()\n",
        "    plt.grid(True)\n",
        "    plt.show()\n",
        "\n",
        "    # Graficar\n",
        "    graficar_polinomio(x, y, polinomio)"
      ],
      "metadata": {
        "id": "i-91n7IXL14p"
      },
      "execution_count": 8,
      "outputs": []
    }
  ]
}