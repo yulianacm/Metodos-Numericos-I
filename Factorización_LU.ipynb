{
  "nbformat": 4,
  "nbformat_minor": 0,
  "metadata": {
    "colab": {
      "provenance": [],
      "authorship_tag": "ABX9TyPJQR8D4TctjSRhm7i3h5ga",
      "include_colab_link": true
    },
    "kernelspec": {
      "name": "python3",
      "display_name": "Python 3"
    },
    "language_info": {
      "name": "python"
    }
  },
  "cells": [
    {
      "cell_type": "markdown",
      "metadata": {
        "id": "view-in-github",
        "colab_type": "text"
      },
      "source": [
        "<a href=\"https://colab.research.google.com/github/yulianacm/Metodos-Numericos-I/blob/main/Factorizaci%C3%B3n_LU.ipynb\" target=\"_parent\"><img src=\"https://colab.research.google.com/assets/colab-badge.svg\" alt=\"Open In Colab\"/></a>"
      ]
    },
    {
      "cell_type": "markdown",
      "source": [
        "Factorización LU"
      ],
      "metadata": {
        "id": "q-lVz6acRqmJ"
      }
    },
    {
      "cell_type": "code",
      "source": [
        "import numpy as np"
      ],
      "metadata": {
        "id": "XNRontiwR7F9"
      },
      "execution_count": 10,
      "outputs": []
    },
    {
      "cell_type": "code",
      "source": [
        "#Matriz para usar de ejemplo\n",
        "A= np.array([\n",
        "    [1, 1, 0, 3],\n",
        "    [2, 1, -1, 1],\n",
        "    [3, -1, -1, 2],\n",
        "    [-1, 2, 3, -1]\n",
        "], dtype=float)"
      ],
      "metadata": {
        "id": "VGR9m8UaSO-1"
      },
      "execution_count": 11,
      "outputs": []
    },
    {
      "cell_type": "code",
      "execution_count": 12,
      "metadata": {
        "colab": {
          "base_uri": "https://localhost:8080/"
        },
        "id": "AlgOZ2BRRmiw",
        "outputId": "64f52d32-49ec-4202-b5ed-9f9ce29e3190"
      },
      "outputs": [
        {
          "output_type": "stream",
          "name": "stdout",
          "text": [
            "Matriz L:\n",
            "[[ 1.  0.  0.  0.]\n",
            " [ 2.  1.  0.  0.]\n",
            " [ 3.  4.  1.  0.]\n",
            " [-1. -3.  0.  1.]]\n",
            "\n",
            "Matriz U:\n",
            "[[  1.   1.   0.   3.]\n",
            " [  0.  -1.  -1.  -5.]\n",
            " [  0.   0.   3.  13.]\n",
            " [  0.   0.   0. -13.]]\n"
          ]
        }
      ],
      "source": [
        "def factorizacionLU(A):\n",
        "    n= len(A)\n",
        "    L= np.zeros((n, n))\n",
        "    U= np.zeros((n, n)) #Matrices L y U inicializadas en ceros\n",
        "\n",
        "    for i in range(n):\n",
        "        #Paso 4: Calcular l_ii y u_ii\n",
        "        suma_diag= sum(L[i][k] * U[k][i] for k in range(i))\n",
        "        L[i][i]= 1  #La diagonal principal de L es 1\n",
        "        U[i][i]= A[i][i]- suma_diag\n",
        "        if U[i][i]== 0:\n",
        "            print(\"Factorización imposible, es matriz singular.\")\n",
        "            return None, None\n",
        "\n",
        "        #Paso 5: Calcular u_ij y l_ji\n",
        "        for j in range(i + 1, n):\n",
        "            suma_u= sum(L[i][k] * U[k][j] for k in range(i))\n",
        "            U[i][j]= (A[i][j] - suma_u) / L[i][i]\n",
        "\n",
        "            suma_l= sum(L[j][k] * U[k][i] for k in range(i))\n",
        "            L[j][i]= (A[j][i] - suma_l) / U[i][i]\n",
        "\n",
        "    return L, U\n",
        "L, U= factorizacionLU(A)\n",
        "\n",
        "if L is not None and U is not None:\n",
        "    print(\"Matriz L:\")\n",
        "    print(L)\n",
        "    print(\"\\nMatriz U:\")\n",
        "    print(U)"
      ]
    }
  ]
}